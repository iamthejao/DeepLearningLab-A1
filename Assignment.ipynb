{
  "nbformat": 4,
  "nbformat_minor": 0,
  "metadata": {
    "colab": {
      "name": "Assignment.ipynb",
      "version": "0.3.2",
      "provenance": [],
      "collapsed_sections": [],
      "include_colab_link": true
    },
    "kernelspec": {
      "name": "python3",
      "display_name": "Python 3"
    }
  },
  "cells": [
    {
      "cell_type": "markdown",
      "metadata": {
        "id": "view-in-github",
        "colab_type": "text"
      },
      "source": [
        "[View in Colaboratory](https://colab.research.google.com/github/iamthejao/DeepLearningLab-A1/blob/master/Assignment.ipynb)"
      ]
    },
    {
      "metadata": {
        "id": "z12_s4QxDt4k",
        "colab_type": "code",
        "colab": {}
      },
      "cell_type": "code",
      "source": [
        "import tensorflow as tf\n",
        "import matplotlib.pyplot as plt\n",
        "import numpy as np\n",
        "import seaborn as sns"
      ],
      "execution_count": 0,
      "outputs": []
    },
    {
      "metadata": {
        "id": "hahj_A59EIf8",
        "colab_type": "code",
        "colab": {}
      },
      "cell_type": "code",
      "source": [
        "gpu_available = tf.test.gpu_device_name()"
      ],
      "execution_count": 0,
      "outputs": []
    },
    {
      "metadata": {
        "id": "YdKjOIPuEVRQ",
        "colab_type": "code",
        "colab": {}
      },
      "cell_type": "code",
      "source": [
        "def create_dataset(w_star, x_range, sample_size, sigma, seed=None):\n",
        "  random_state = np.random.RandomState(seed)\n",
        "  x = random_state.uniform(x_range[0] , x_range[1] , (sample_size))\n",
        "  X = np.zeros((sample_size , w_star.shape[0]))\n",
        "  for i in range(sample_size):\n",
        "    X[i, 0] = 1.\n",
        "    for j in range(1, w_star.shape[0]):\n",
        "      X[i, j] = x[i]**j\n",
        "  y = X.dot(w_star).flatten()\n",
        "  if sigma > 0:\n",
        "    y += random_state.normal(0.0 , sigma , sample_size )\n",
        "  return X, y\n",
        "\n"
      ],
      "execution_count": 0,
      "outputs": []
    },
    {
      "metadata": {
        "id": "ZSxWU3IWGSbu",
        "colab_type": "code",
        "colab": {}
      },
      "cell_type": "code",
      "source": [
        "w_star = np.array([-8, -4, 2, 1])[np.newaxis].T\n",
        "x_range = [-3,2]\n",
        "sample_size = 100\n",
        "seed_train = 0\n",
        "seed_validation = 1\n",
        "sigma = 0.5"
      ],
      "execution_count": 0,
      "outputs": []
    },
    {
      "metadata": {
        "id": "qOHQcU3vKhDF",
        "colab_type": "code",
        "colab": {}
      },
      "cell_type": "code",
      "source": [
        "random_state = np.random.RandomState(seed)\n",
        "x = random_state.uniform(x_range[0] , x_range[1] , (sample_size))\n",
        "X = np.zeros((sample_size , w_star.shape[0]))\n",
        "for i in range(sample_size):\n",
        "  X[i, 0] = 1.\n",
        "  for j in range(1, w_star.shape[0]):\n",
        "    X[i, j] = x[i]**j\n",
        "y = X.dot(w_star).flatten()"
      ],
      "execution_count": 0,
      "outputs": []
    },
    {
      "metadata": {
        "id": "D8WOCVuDK25k",
        "colab_type": "code",
        "colab": {}
      },
      "cell_type": "code",
      "source": [
        "X_train, y_train = create_dataset(w_star, x_range, sample_size, sigma, seed=seed_train)\n",
        "X_val, y_val = create_dataset(w_star, x_range, sample_size, sigma, seed=seed_validation)"
      ],
      "execution_count": 0,
      "outputs": []
    },
    {
      "metadata": {
        "id": "zFLrWnuFK-SL",
        "colab_type": "code",
        "colab": {}
      },
      "cell_type": "code",
      "source": [
        "# Defining the Tensorflow environment to calculate the problem\n",
        "def gradient_descent_linearRegression(Xtrain, ytrain, learning_rate, iterations, session=None, validation=None):\n",
        "  \n",
        "  # Setting TF variables\n",
        "  X = tf.placeholder(tf.float32, shape=(None, X.shape[-1]))\n",
        "  y = tf.placeholder(tf.float32, shape=(None,))\n",
        "  w = tf.Variable(tf.zeros((X.shape[-1],1)), trainable=True)\n",
        "  \n",
        "  # Mounting loss function\n",
        "  predicion = tf.matmul(X, w).flatten()\n",
        "  loss = tf.reduce_mean(tf.square(y - prediction))\n",
        "  \n",
        "  # Selecting optimizer\n",
        "  optimizer = tf.train.GradientDescentOptimizer(learning_rate)\n",
        "  train = optimizer.minimize(loss)\n",
        "  \n",
        "  # Creating session\n",
        "  if session is None:\n",
        "    session = tf.Session()\n",
        "    \n",
        "  initializer = tf.global_variables_initializer()\n",
        "  session.run(initializer)\n",
        "  \n",
        "  # Iterating training\n",
        "  for i in range(iterations):\n",
        "    l, _ = session.run([loss, train], feed_dict={X:Xtrain, y: ytrain})\n",
        "    print(\"Iteration {0}. Loss: {1}.\".format(i, l))\n",
        "  \n",
        "  # Check if validation set is given\n",
        "  if validation is not None:\n",
        "    Xval, yval = validation\n",
        "    l = session.run(loss, feed_dict={X:Xval, y:yval})\n",
        "    \n",
        "  \n",
        "  \n",
        "   \n",
        "  \n",
        "  "
      ],
      "execution_count": 0,
      "outputs": []
    }
  ]
}